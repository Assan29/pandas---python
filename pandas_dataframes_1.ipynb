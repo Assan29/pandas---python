{
 "cells": [
  {
   "cell_type": "markdown",
   "id": "444beb6c",
   "metadata": {},
   "source": [
    "# pandas DataFrames\n",
    "* pandas library helps us to `manipulate data`\n",
    "* in pandas we have numpy, ploting modules and option to write queris\n",
    "* using pandas `DataFrames` we can store data in tabular format, which we can modify, manipulation bu using inbuilt functions\n",
    "\n",
    "* tabular formate is `(rows x columns)`\n",
    "* generally row index will be your observation number and columns headings will be thw variable names\n",
    "* there are two main components in pandas library\n",
    "    * `Series` : it a unit or **1dim** object like row or column\n",
    "    \n",
    "    * `DataFrames` : tabular form like a **2dim** numpy array"
   ]
  },
  {
   "cell_type": "code",
   "execution_count": 12,
   "id": "e0329139",
   "metadata": {},
   "outputs": [],
   "source": [
    "import pandas as pd"
   ]
  },
  {
   "cell_type": "code",
   "execution_count": 13,
   "id": "c03e48d0",
   "metadata": {},
   "outputs": [],
   "source": [
    "person = {'first' : 'Assan',\n",
    "          'last'  : 'Kalagotla',\n",
    "          'email' : 'assankalagotla@gmail.com'}"
   ]
  },
  {
   "cell_type": "code",
   "execution_count": 14,
   "id": "93e800fc",
   "metadata": {},
   "outputs": [],
   "source": [
    "people = {'first' : ['Assan','Hussen','Husna'],\n",
    "          'last'  : ['hassi','rocks','anju'],\n",
    "          'email' : ['assanhassi@gmail.com','hussenrocks@gmail.com','husnaanju@gmail.com']}"
   ]
  },
  {
   "cell_type": "code",
   "execution_count": 15,
   "id": "5a5ef0ff",
   "metadata": {},
   "outputs": [
    {
     "data": {
      "text/plain": [
       "['assanhassi@gmail.com', 'hussenrocks@gmail.com', 'husnaanju@gmail.com']"
      ]
     },
     "execution_count": 15,
     "metadata": {},
     "output_type": "execute_result"
    }
   ],
   "source": [
    "people['email']"
   ]
  },
  {
   "cell_type": "markdown",
   "id": "753de14a",
   "metadata": {},
   "source": [
    "## we have to convert dictonary data into DataFrames"
   ]
  },
  {
   "cell_type": "code",
   "execution_count": 31,
   "id": "fae02571",
   "metadata": {},
   "outputs": [
    {
     "data": {
      "text/html": [
       "<div>\n",
       "<style scoped>\n",
       "    .dataframe tbody tr th:only-of-type {\n",
       "        vertical-align: middle;\n",
       "    }\n",
       "\n",
       "    .dataframe tbody tr th {\n",
       "        vertical-align: top;\n",
       "    }\n",
       "\n",
       "    .dataframe thead th {\n",
       "        text-align: right;\n",
       "    }\n",
       "</style>\n",
       "<table border=\"1\" class=\"dataframe\">\n",
       "  <thead>\n",
       "    <tr style=\"text-align: right;\">\n",
       "      <th></th>\n",
       "      <th>first</th>\n",
       "      <th>last</th>\n",
       "      <th>email</th>\n",
       "    </tr>\n",
       "  </thead>\n",
       "  <tbody>\n",
       "    <tr>\n",
       "      <th>0</th>\n",
       "      <td>Assan</td>\n",
       "      <td>hassi</td>\n",
       "      <td>assanhassi@gmail.com</td>\n",
       "    </tr>\n",
       "    <tr>\n",
       "      <th>1</th>\n",
       "      <td>Hussen</td>\n",
       "      <td>rocks</td>\n",
       "      <td>hussenrocks@gmail.com</td>\n",
       "    </tr>\n",
       "    <tr>\n",
       "      <th>2</th>\n",
       "      <td>Husna</td>\n",
       "      <td>anju</td>\n",
       "      <td>husnaanju@gmail.com</td>\n",
       "    </tr>\n",
       "  </tbody>\n",
       "</table>\n",
       "</div>"
      ],
      "text/plain": [
       "    first   last                  email\n",
       "0   Assan  hassi   assanhassi@gmail.com\n",
       "1  Hussen  rocks  hussenrocks@gmail.com\n",
       "2   Husna   anju    husnaanju@gmail.com"
      ]
     },
     "execution_count": 31,
     "metadata": {},
     "output_type": "execute_result"
    }
   ],
   "source": [
    "df = pd.DataFrame(people)\n",
    "df"
   ]
  },
  {
   "cell_type": "code",
   "execution_count": 32,
   "id": "75b7d7ea",
   "metadata": {},
   "outputs": [
    {
     "data": {
      "text/plain": [
       "0     assanhassi@gmail.com\n",
       "1    hussenrocks@gmail.com\n",
       "2      husnaanju@gmail.com\n",
       "Name: email, dtype: object"
      ]
     },
     "execution_count": 32,
     "metadata": {},
     "output_type": "execute_result"
    }
   ],
   "source": [
    "df['email']"
   ]
  },
  {
   "cell_type": "code",
   "execution_count": 33,
   "id": "1dc801a2",
   "metadata": {},
   "outputs": [
    {
     "data": {
      "text/plain": [
       "pandas.core.series.Series"
      ]
     },
     "execution_count": 33,
     "metadata": {},
     "output_type": "execute_result"
    }
   ],
   "source": [
    "type(df['email'])"
   ]
  },
  {
   "cell_type": "code",
   "execution_count": 34,
   "id": "764f6f05",
   "metadata": {},
   "outputs": [
    {
     "data": {
      "text/plain": [
       "0     assanhassi@gmail.com\n",
       "1    hussenrocks@gmail.com\n",
       "2      husnaanju@gmail.com\n",
       "Name: email, dtype: object"
      ]
     },
     "execution_count": 34,
     "metadata": {},
     "output_type": "execute_result"
    }
   ],
   "source": [
    "df.email"
   ]
  },
  {
   "cell_type": "code",
   "execution_count": 35,
   "id": "759a4e21",
   "metadata": {},
   "outputs": [
    {
     "data": {
      "text/html": [
       "<div>\n",
       "<style scoped>\n",
       "    .dataframe tbody tr th:only-of-type {\n",
       "        vertical-align: middle;\n",
       "    }\n",
       "\n",
       "    .dataframe tbody tr th {\n",
       "        vertical-align: top;\n",
       "    }\n",
       "\n",
       "    .dataframe thead th {\n",
       "        text-align: right;\n",
       "    }\n",
       "</style>\n",
       "<table border=\"1\" class=\"dataframe\">\n",
       "  <thead>\n",
       "    <tr style=\"text-align: right;\">\n",
       "      <th></th>\n",
       "      <th>first</th>\n",
       "      <th>email</th>\n",
       "    </tr>\n",
       "  </thead>\n",
       "  <tbody>\n",
       "    <tr>\n",
       "      <th>0</th>\n",
       "      <td>Assan</td>\n",
       "      <td>assanhassi@gmail.com</td>\n",
       "    </tr>\n",
       "    <tr>\n",
       "      <th>1</th>\n",
       "      <td>Hussen</td>\n",
       "      <td>hussenrocks@gmail.com</td>\n",
       "    </tr>\n",
       "    <tr>\n",
       "      <th>2</th>\n",
       "      <td>Husna</td>\n",
       "      <td>husnaanju@gmail.com</td>\n",
       "    </tr>\n",
       "  </tbody>\n",
       "</table>\n",
       "</div>"
      ],
      "text/plain": [
       "    first                  email\n",
       "0   Assan   assanhassi@gmail.com\n",
       "1  Hussen  hussenrocks@gmail.com\n",
       "2   Husna    husnaanju@gmail.com"
      ]
     },
     "execution_count": 35,
     "metadata": {},
     "output_type": "execute_result"
    }
   ],
   "source": [
    "df[['first','email']]"
   ]
  },
  {
   "cell_type": "code",
   "execution_count": 36,
   "id": "ca881632",
   "metadata": {},
   "outputs": [
    {
     "data": {
      "text/plain": [
       "Index(['first', 'last', 'email'], dtype='object')"
      ]
     },
     "execution_count": 36,
     "metadata": {},
     "output_type": "execute_result"
    }
   ],
   "source": [
    "df.columns"
   ]
  },
  {
   "cell_type": "code",
   "execution_count": 37,
   "id": "aca2f51a",
   "metadata": {},
   "outputs": [
    {
     "data": {
      "text/html": [
       "<div>\n",
       "<style scoped>\n",
       "    .dataframe tbody tr th:only-of-type {\n",
       "        vertical-align: middle;\n",
       "    }\n",
       "\n",
       "    .dataframe tbody tr th {\n",
       "        vertical-align: top;\n",
       "    }\n",
       "\n",
       "    .dataframe thead th {\n",
       "        text-align: right;\n",
       "    }\n",
       "</style>\n",
       "<table border=\"1\" class=\"dataframe\">\n",
       "  <thead>\n",
       "    <tr style=\"text-align: right;\">\n",
       "      <th></th>\n",
       "      <th>first</th>\n",
       "      <th>last</th>\n",
       "      <th>email</th>\n",
       "    </tr>\n",
       "  </thead>\n",
       "  <tbody>\n",
       "    <tr>\n",
       "      <th>0</th>\n",
       "      <td>Assan</td>\n",
       "      <td>hassi</td>\n",
       "      <td>assanhassi@gmail.com</td>\n",
       "    </tr>\n",
       "    <tr>\n",
       "      <th>1</th>\n",
       "      <td>Hussen</td>\n",
       "      <td>rocks</td>\n",
       "      <td>hussenrocks@gmail.com</td>\n",
       "    </tr>\n",
       "    <tr>\n",
       "      <th>2</th>\n",
       "      <td>Husna</td>\n",
       "      <td>anju</td>\n",
       "      <td>husnaanju@gmail.com</td>\n",
       "    </tr>\n",
       "  </tbody>\n",
       "</table>\n",
       "</div>"
      ],
      "text/plain": [
       "    first   last                  email\n",
       "0   Assan  hassi   assanhassi@gmail.com\n",
       "1  Hussen  rocks  hussenrocks@gmail.com\n",
       "2   Husna   anju    husnaanju@gmail.com"
      ]
     },
     "execution_count": 37,
     "metadata": {},
     "output_type": "execute_result"
    }
   ],
   "source": [
    "df"
   ]
  },
  {
   "cell_type": "markdown",
   "id": "5608911f",
   "metadata": {},
   "source": [
    "# iloc  - searching by indexer of rows and columns"
   ]
  },
  {
   "cell_type": "code",
   "execution_count": 47,
   "id": "321f6889",
   "metadata": {},
   "outputs": [
    {
     "data": {
      "text/plain": [
       "first                   Assan\n",
       "last                    hassi\n",
       "email    assanhassi@gmail.com\n",
       "Name: 0, dtype: object"
      ]
     },
     "execution_count": 47,
     "metadata": {},
     "output_type": "execute_result"
    }
   ],
   "source": [
    "df.iloc[0]"
   ]
  },
  {
   "cell_type": "code",
   "execution_count": 48,
   "id": "6a61e8c2",
   "metadata": {},
   "outputs": [
    {
     "data": {
      "text/plain": [
       "'hassi'"
      ]
     },
     "execution_count": 48,
     "metadata": {},
     "output_type": "execute_result"
    }
   ],
   "source": [
    "df.iloc[0,1]"
   ]
  },
  {
   "cell_type": "code",
   "execution_count": 49,
   "id": "b2bf5b44",
   "metadata": {},
   "outputs": [
    {
     "data": {
      "text/html": [
       "<div>\n",
       "<style scoped>\n",
       "    .dataframe tbody tr th:only-of-type {\n",
       "        vertical-align: middle;\n",
       "    }\n",
       "\n",
       "    .dataframe tbody tr th {\n",
       "        vertical-align: top;\n",
       "    }\n",
       "\n",
       "    .dataframe thead th {\n",
       "        text-align: right;\n",
       "    }\n",
       "</style>\n",
       "<table border=\"1\" class=\"dataframe\">\n",
       "  <thead>\n",
       "    <tr style=\"text-align: right;\">\n",
       "      <th></th>\n",
       "      <th>first</th>\n",
       "      <th>last</th>\n",
       "      <th>email</th>\n",
       "    </tr>\n",
       "  </thead>\n",
       "  <tbody>\n",
       "    <tr>\n",
       "      <th>0</th>\n",
       "      <td>Assan</td>\n",
       "      <td>hassi</td>\n",
       "      <td>assanhassi@gmail.com</td>\n",
       "    </tr>\n",
       "    <tr>\n",
       "      <th>1</th>\n",
       "      <td>Hussen</td>\n",
       "      <td>rocks</td>\n",
       "      <td>hussenrocks@gmail.com</td>\n",
       "    </tr>\n",
       "  </tbody>\n",
       "</table>\n",
       "</div>"
      ],
      "text/plain": [
       "    first   last                  email\n",
       "0   Assan  hassi   assanhassi@gmail.com\n",
       "1  Hussen  rocks  hussenrocks@gmail.com"
      ]
     },
     "execution_count": 49,
     "metadata": {},
     "output_type": "execute_result"
    }
   ],
   "source": [
    "df.iloc[[0,1]]"
   ]
  },
  {
   "cell_type": "code",
   "execution_count": 50,
   "id": "024c9984",
   "metadata": {},
   "outputs": [
    {
     "data": {
      "text/plain": [
       "0     assanhassi@gmail.com\n",
       "1    hussenrocks@gmail.com\n",
       "Name: email, dtype: object"
      ]
     },
     "execution_count": 50,
     "metadata": {},
     "output_type": "execute_result"
    }
   ],
   "source": [
    "df.iloc[[0,1], 2]"
   ]
  },
  {
   "cell_type": "markdown",
   "id": "a74e04b6",
   "metadata": {},
   "source": [
    "# loc - searching by lable of rows and columns"
   ]
  },
  {
   "cell_type": "code",
   "execution_count": 51,
   "id": "bc2e9f58",
   "metadata": {},
   "outputs": [
    {
     "data": {
      "text/plain": [
       "first                   Assan\n",
       "last                    hassi\n",
       "email    assanhassi@gmail.com\n",
       "Name: 0, dtype: object"
      ]
     },
     "execution_count": 51,
     "metadata": {},
     "output_type": "execute_result"
    }
   ],
   "source": [
    "df.loc[0]"
   ]
  },
  {
   "cell_type": "code",
   "execution_count": 52,
   "id": "e92edacb",
   "metadata": {},
   "outputs": [
    {
     "data": {
      "text/plain": [
       "0     assanhassi@gmail.com\n",
       "1    hussenrocks@gmail.com\n",
       "Name: email, dtype: object"
      ]
     },
     "execution_count": 52,
     "metadata": {},
     "output_type": "execute_result"
    }
   ],
   "source": [
    "df.loc[[0,1],'email']"
   ]
  },
  {
   "cell_type": "code",
   "execution_count": 53,
   "id": "f025edea",
   "metadata": {},
   "outputs": [
    {
     "data": {
      "text/html": [
       "<div>\n",
       "<style scoped>\n",
       "    .dataframe tbody tr th:only-of-type {\n",
       "        vertical-align: middle;\n",
       "    }\n",
       "\n",
       "    .dataframe tbody tr th {\n",
       "        vertical-align: top;\n",
       "    }\n",
       "\n",
       "    .dataframe thead th {\n",
       "        text-align: right;\n",
       "    }\n",
       "</style>\n",
       "<table border=\"1\" class=\"dataframe\">\n",
       "  <thead>\n",
       "    <tr style=\"text-align: right;\">\n",
       "      <th></th>\n",
       "      <th>email</th>\n",
       "      <th>first</th>\n",
       "    </tr>\n",
       "  </thead>\n",
       "  <tbody>\n",
       "    <tr>\n",
       "      <th>0</th>\n",
       "      <td>assanhassi@gmail.com</td>\n",
       "      <td>Assan</td>\n",
       "    </tr>\n",
       "    <tr>\n",
       "      <th>1</th>\n",
       "      <td>hussenrocks@gmail.com</td>\n",
       "      <td>Hussen</td>\n",
       "    </tr>\n",
       "  </tbody>\n",
       "</table>\n",
       "</div>"
      ],
      "text/plain": [
       "                   email   first\n",
       "0   assanhassi@gmail.com   Assan\n",
       "1  hussenrocks@gmail.com  Hussen"
      ]
     },
     "execution_count": 53,
     "metadata": {},
     "output_type": "execute_result"
    }
   ],
   "source": [
    "df.loc[[0,1],['email','first']]"
   ]
  }
 ],
 "metadata": {
  "kernelspec": {
   "display_name": "Python 3 (ipykernel)",
   "language": "python",
   "name": "python3"
  },
  "language_info": {
   "codemirror_mode": {
    "name": "ipython",
    "version": 3
   },
   "file_extension": ".py",
   "mimetype": "text/x-python",
   "name": "python",
   "nbconvert_exporter": "python",
   "pygments_lexer": "ipython3",
   "version": "3.10.9"
  }
 },
 "nbformat": 4,
 "nbformat_minor": 5
}
